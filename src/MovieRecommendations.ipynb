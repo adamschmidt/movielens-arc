{
 "cells": [
  {
   "cell_type": "markdown",
   "metadata": {},
   "source": [
    "# Recommendation Data Pipeline"
   ]
  },
  {
   "cell_type": "code",
   "execution_count": null,
   "metadata": {},
   "outputs": [],
   "source": [
    "{\n",
    "  \"type\": \"DelimitedExtract\",\n",
    "  \"name\": \"load ratings extract\",\n",
    "  \"environments\": [\n",
    "    \"production\",\n",
    "    \"test\"\n",
    "  ],\n",
    "  \"inputURI\": \"file:///data/ml-latest/ratings.csv\",\n",
    "  \"outputView\": \"ratings_raw\",\n",
    "  \"header\": true\n",
    "}"
   ]
  },
  {
   "cell_type": "code",
   "execution_count": null,
   "metadata": {},
   "outputs": [],
   "source": [
    "{\n",
    "  \"type\": \"TypingTransform\",\n",
    "  \"name\": \"apply typing to the raw ratings dataset\",\n",
    "  \"environments\": [\"production\", \"test\"],\n",
    "  \"schemaURI\": \"file:///home/jovyan/src/ratings.json\",\n",
    "  \"inputView\": \"ratings_raw\",            \n",
    "  \"outputView\": \"ratings\",\n",
    "  \"persist\": true  \n",
    "}"
   ]
  },
  {
   "cell_type": "code",
   "execution_count": null,
   "metadata": {},
   "outputs": [],
   "source": [
    "{\n",
    "  \"type\": \"DelimitedExtract\",\n",
    "  \"name\": \"load movies extract\",\n",
    "  \"environments\": [\n",
    "    \"production\",\n",
    "    \"test\"\n",
    "  ],\n",
    "  \"inputURI\": \"file:///data/ml-latest/movies.csv\",\n",
    "  \"outputView\": \"movies_raw\",\n",
    "  \"header\": true\n",
    "}"
   ]
  },
  {
   "cell_type": "code",
   "execution_count": null,
   "metadata": {},
   "outputs": [],
   "source": [
    "{\n",
    "  \"type\": \"TypingTransform\",\n",
    "  \"name\": \"apply typing to the raw movie dataset\",\n",
    "  \"environments\": [\"production\", \"test\"],\n",
    "  \"schemaURI\": \"file:///home/jovyan/src/movies.json\",\n",
    "  \"inputView\": \"movies_raw\",            \n",
    "  \"outputView\": \"movies\",\n",
    "  \"persist\": true  \n",
    "}"
   ]
  },
  {
   "cell_type": "code",
   "execution_count": null,
   "metadata": {},
   "outputs": [],
   "source": [
    "{\n",
    "  \"type\": \"MLTransform\",\n",
    "  \"name\": \"apply machine learning model to generate recommendations\",\n",
    "  \"environments\": [\n",
    "    \"production\",\n",
    "    \"test\"\n",
    "  ],\n",
    "  \"inputURI\": \"file:///model/movie_lens_als\",\n",
    "  \"inputView\": \"ratings\",\n",
    "  \"outputView\": \"customer_ratings\"\n",
    "}"
   ]
  },
  {
   "cell_type": "code",
   "execution_count": null,
   "metadata": {},
   "outputs": [],
   "source": [
    "%sql outputView=userRecommendations\n",
    "SELECT userId, collect_list(title) as top_10 FROM \n",
    "   (SELECT userId, movieId, dense_rank() \n",
    "         OVER (PARTITION BY userId ORDER BY prediction DESC) as rank \n",
    "    FROM customer_ratings) tmp\n",
    "JOIN movies ON tmp.movieId = movies.movieId\n",
    "WHERE rank <= 10\n",
    "GROUP BY userId"
   ]
  },
  {
   "cell_type": "code",
   "execution_count": null,
   "metadata": {},
   "outputs": [],
   "source": []
  }
 ],
 "metadata": {
  "kernelspec": {
   "display_name": "Arc",
   "language": "javascript",
   "name": "arc"
  },
  "language_info": {
   "file_extension": "arc",
   "mimetype": "text/arc",
   "name": "arc",
   "nbconvert_exporter": "text",
   "version": "1.9.3"
  }
 },
 "nbformat": 4,
 "nbformat_minor": 2
}
